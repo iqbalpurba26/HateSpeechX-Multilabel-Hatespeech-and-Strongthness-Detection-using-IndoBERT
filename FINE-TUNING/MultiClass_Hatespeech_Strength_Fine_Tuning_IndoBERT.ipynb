{
  "cells": [
    {
      "cell_type": "code",
      "execution_count": null,
      "metadata": {
        "id": "NrxFKGRY21ME"
      },
      "outputs": [],
      "source": [
        "tokenizer = AutoTokenizer.from_pretrained(\"indobenchmark/indobert-base-p1\")\n",
        "\n",
        "def tokenize_text(text, max_length=500):\n",
        "    encoded = tokenizer(text.to_list(), padding=True, truncation=True, max_length=max_length, return_tensors='tf')\n",
        "    token_ids = encoded['input_ids']\n",
        "    attention_mask = encoded['attention_mask']\n",
        "\n",
        "    return token_ids, attention_mask"
      ]
    },
    {
      "cell_type": "code",
      "execution_count": null,
      "metadata": {
        "id": "8hJHGNrc5Azc"
      },
      "outputs": [],
      "source": [
        "strengthtrain_token_ids, strengthtrain_attention_mask = tokenize_text(df_strengthness_train['text'])\n",
        "strengthtest_token_ids, strengthtest_attention_mask = tokenize_text(df_strengthness_test['text'])\n",
        "strengthval_token_ids, strengthval_attention_mask = tokenize_text(df_strengthness_val['text'])"
      ]
    },
    {
      "cell_type": "code",
      "execution_count": null,
      "metadata": {
        "id": "eFJ_sMPZBAGg"
      },
      "outputs": [],
      "source": [
        "label_strengthness_train = tf.convert_to_tensor(df_strengthness_train.iloc[:,1:].values, dtype=tf.float32)\n",
        "label_strengthness_test = tf.convert_to_tensor(df_strengthness_test.iloc[:,1:].values, dtype=tf.float32)\n",
        "label_strengthness_val = tf.convert_to_tensor(df_strengthness_val.iloc[:,1:].values, dtype=tf.float32)"
      ]
    },
    {
      "cell_type": "code",
      "execution_count": null,
      "metadata": {
        "id": "pHy0-nprD4PD"
      },
      "outputs": [],
      "source": [
        "formatted_strengthness_train = tf.data.Dataset.from_tensor_slices(({\"input_ids\":strengthtrain_token_ids, \"attention_mask\":strengthtrain_attention_mask}, label_strengthness_train))\n",
        "formatted_strengthness_test = tf.data.Dataset.from_tensor_slices(({\"input_ids\":strengthtest_token_ids, \"attention_mask\":strengthtest_attention_mask}, label_strengthness_test))\n",
        "formatted_strengthness_val = tf.data.Dataset.from_tensor_slices(({\"input_ids\":strengthval_token_ids, \"attention_mask\":strengthval_attention_mask}, label_strengthness_val))"
      ]
    },
    {
      "cell_type": "code",
      "execution_count": null,
      "metadata": {
        "id": "U6ka5BiHUjfL"
      },
      "outputs": [],
      "source": [
        "batch_size = 8\n",
        "formatted_strengthness_train = formatted_strengthness_train.shuffle(len(df_strengthness_train)).batch(batch_size)\n",
        "formatted_strengthness_test = formatted_strengthness_test.batch(batch_size)\n",
        "formatted_strengthness_val = formatted_strengthness_val.batch(batch_size)"
      ]
    },
    {
      "cell_type": "code",
      "execution_count": null,
      "metadata": {
        "id": "J67mRRFjVvBo",
        "colab": {
          "base_uri": "https://localhost:8080/",
          "height": 138,
          "referenced_widgets": [
            "03f8970f46e34853b564d594c1f63eff",
            "90eab30208414f7a8b91b99960760400",
            "66d8c9ef228441f28ef84e3ace03ae19",
            "1554c2e4557446d4b714d98781339c53",
            "2451ed0e510a402b99154e74c518f041",
            "d0ef116ff04547c18e6532ec12a2139d",
            "b2a6de9a30c0481b8886fdc7fcce843a",
            "55d5087095ba438a984d222f032ff330",
            "3678771d843a4459b293d52b108de7b6",
            "fc2c6432921749e6bfd5eb1796572fd2",
            "4001af4c8764468cbf504f0b303878a7"
          ]
        },
        "outputId": "a6dded08-4c85-463b-c4ef-d384dda5d919"
      },
      "outputs": [
        {
          "output_type": "display_data",
          "data": {
            "text/plain": [
              "tf_model.h5:   0%|          | 0.00/656M [00:00<?, ?B/s]"
            ],
            "application/vnd.jupyter.widget-view+json": {
              "version_major": 2,
              "version_minor": 0,
              "model_id": "03f8970f46e34853b564d594c1f63eff"
            }
          },
          "metadata": {}
        },
        {
          "output_type": "stream",
          "name": "stderr",
          "text": [
            "All model checkpoint layers were used when initializing TFBertForSequenceClassification.\n",
            "\n",
            "Some layers of TFBertForSequenceClassification were not initialized from the model checkpoint at indobenchmark/indobert-base-p1 and are newly initialized: ['classifier']\n",
            "You should probably TRAIN this model on a down-stream task to be able to use it for predictions and inference.\n"
          ]
        }
      ],
      "source": [
        "model = TFAutoModelForSequenceClassification.from_pretrained(\"indobenchmark/indobert-base-p1\",num_labels=label_strengthness_train.shape[1])"
      ]
    },
    {
      "cell_type": "code",
      "execution_count": null,
      "metadata": {
        "id": "CR82m26NW1dX"
      },
      "outputs": [],
      "source": [
        "optimizer = Adam(learning_rate=3e-5)\n",
        "loss = CategoricalCrossentropy(from_logits=True)"
      ]
    },
    {
      "cell_type": "code",
      "execution_count": null,
      "metadata": {
        "id": "VJXEpGcQcAU1",
        "colab": {
          "base_uri": "https://localhost:8080/"
        },
        "outputId": "c0c416aa-b6df-4d39-ebd8-99820bdb6a3d"
      },
      "outputs": [
        {
          "output_type": "stream",
          "name": "stdout",
          "text": [
            "Tidak menemukan checkpoint. Mulai dari awal...\n",
            "Epoch 0/3\n",
            "----------\n",
            "Training loss (step 100): 0.5439\n",
            "Training loss (step 200): 0.5064\n",
            "Training loss (step 300): 0.3042\n",
            "Training loss (step 400): 0.5635\n",
            "Training loss (step 500): 0.3013\n",
            "Training loss (step 600): 0.2695\n",
            "Training loss (step 700): 0.2263\n",
            "Training loss (step 800): 0.0874\n",
            "Training loss (step 900): 0.2808\n",
            "Training loss (step 1000): 0.7972\n",
            "Training loss (step 1100): 0.4569\n",
            "Training loss (step 1200): 0.4214\n",
            "Training loss (step 1300): 0.5282\n",
            "Training loss (step 1400): 0.5789\n",
            "Training loss (step 1500): 0.3204\n",
            "Training loss: 0.3855\n",
            "Validation loss: 0.3858\n",
            "Loss Berkurang\n",
            "Epoch 1/3\n",
            "----------\n",
            "Training loss (step 100): 0.2647\n",
            "Training loss (step 200): 0.2639\n",
            "Training loss (step 300): 0.4639\n",
            "Training loss (step 400): 0.6202\n",
            "Training loss (step 500): 0.3695\n",
            "Training loss (step 600): 0.2164\n",
            "Training loss (step 700): 0.5444\n",
            "Training loss (step 800): 0.2564\n",
            "Training loss (step 900): 0.4184\n",
            "Training loss (step 1000): 0.0707\n",
            "Training loss (step 1100): 0.3815\n",
            "Training loss (step 1200): 0.1708\n",
            "Training loss (step 1300): 0.6351\n",
            "Training loss (step 1400): 0.6415\n",
            "Training loss (step 1500): 0.0503\n",
            "Training loss: 0.3610\n",
            "Validation loss: 0.3497\n",
            "Loss Berkurang\n",
            "Epoch 2/3\n",
            "----------\n",
            "Training loss (step 100): 0.2448\n",
            "Training loss (step 200): 0.3620\n",
            "Training loss (step 300): 0.7041\n",
            "Training loss (step 400): 0.4666\n",
            "Training loss (step 500): 0.2055\n",
            "Training loss (step 600): 0.4608\n",
            "Training loss (step 700): 0.4285\n",
            "Training loss (step 800): 0.2897\n",
            "Training loss (step 900): 0.0792\n",
            "Training loss (step 1000): 0.3309\n",
            "Training loss (step 1100): 0.7716\n",
            "Training loss (step 1200): 0.1633\n",
            "Training loss (step 1300): 0.3401\n",
            "Training loss (step 1400): 0.0668\n",
            "Training loss (step 1500): 0.2363\n",
            "Training loss: 0.3536\n",
            "Validation loss: 0.3478\n",
            "Loss Berkurang\n"
          ]
        }
      ],
      "source": [
        "tolerance = 3\n",
        "min_delta = 1e-4\n",
        "num_epoch = 3\n",
        "wait = 0\n",
        "best_loss = float('inf')\n",
        "\n",
        "for epoch in range(num_epoch):\n",
        "    print(f\"Epoch {epoch}/{num_epoch}\")\n",
        "    print(\"=\"*30)\n",
        "    train_loss_total = 0\n",
        "    train_step = 0\n",
        "\n",
        "    for s(x_batch_train, y_batch_train) in (formatted_strengthness_train):\n",
        "      with tf.GradientTape() as tape:\n",
        "        logits = model(x_batch_train, training=True).logits\n",
        "        loss_value = loss(y_batch_train, logits)\n",
        "\n",
        "      gradients = tape.gradient(loss_value, model.trainable_weights)\n",
        "      optimizer.apply_gradients(zip(gradients, model.trainable_weights))\n",
        "\n",
        "      train_loss_total += loss_value\n",
        "      train_step += 1\n",
        "      if train_step % 100 == 0:\n",
        "        print(f\"Training loss (step {train_step}): {loss_value:.4f}\")\n",
        "      train_loss_avg = train_loss_total / train_step\n",
        "\n",
        "      val_loss_total = 0\n",
        "\n",
        "    for x_batch_val, y_batch_val in formatted_strengthness_val:\n",
        "      val_logits = model(x_batch_val, training=False).logits\n",
        "      val_loss_value = loss(y_batch_val, val_logits)\n",
        "\n",
        "      val_loss_total += val_loss_value\n",
        "    val_loss_avg = val_loss_total / len(formatted_strengthness_val)\n",
        "    print(\"=\"*30)\n",
        "    print(f\"Training loss: {train_loss_avg:.4f}\")\n",
        "    print(f\"Validation loss: {val_loss_avg:.4f}\")\n",
        "\n",
        "    if val_loss_avg < best_loss - min_delta:\n",
        "      best_loss = val_loss_avg\n",
        "      wait = 0\n",
        "      print(\"Loss Berkurang\")\n",
        "    else:\n",
        "      wait += 1\n",
        "      print (\"Loss Meningkat\")\n",
        "\n",
        "    if wait >= tolerance:\n",
        "      print(\"Early stopping triggered\")\n",
        "      break"
      ]
    },
    {
      "cell_type": "code",
      "source": [
        "threshold = 0.5\n",
        "\n",
        "preds = model.predict(formatted_strengthness_test)\n",
        "probs = tf.nn.softmax(preds.logits, axis=-1).numpy()\n",
        "preds_label = np.argmax(probs, axis=1)\n",
        "\n",
        "true_labels = []\n",
        "for _, label in formatted_strengthness_test:\n",
        "    true_labels.extend(label.numpy())\n",
        "\n",
        "true_labels = np.argmax(true_labels, axis=1)\n",
        "\n",
        "target_names = ['hs_weak', 'hs_moderate', 'hs_strong']\n",
        "\n",
        "report = classification_report(true_labels, preds_label, target_names=target_names, zero_division=0)\n",
        "accuracy = accuracy_score(true_labels, preds_label)\n",
        "\n",
        "print(report)\n",
        "print(f\"Accuracy: {accuracy}\")"
      ],
      "metadata": {
        "colab": {
          "base_uri": "https://localhost:8080/"
        },
        "id": "CUsvU-t51Ifc",
        "outputId": "bc1b61dd-64a1-4b52-eaeb-ba44a9aad8a7"
      },
      "execution_count": null,
      "outputs": [
        {
          "output_type": "stream",
          "name": "stdout",
          "text": [
            "465/465 [==============================] - 25s 53ms/step\n",
            "              precision    recall  f1-score   support\n",
            "\n",
            "     hs_weak       0.87      0.99      0.93      3122\n",
            " hs_moderate       0.00      0.00      0.00       458\n",
            "   hs_strong       0.75      0.80      0.77       137\n",
            "\n",
            "    accuracy                           0.86      3717\n",
            "   macro avg       0.54      0.60      0.57      3717\n",
            "weighted avg       0.76      0.86      0.81      3717\n",
            "\n",
            "Accuracy: 0.8638687113263385\n"
          ]
        }
      ]
    },
    {
      "cell_type": "code",
      "execution_count": null,
      "metadata": {
        "id": "dk7ejpNr_ubz"
      },
      "outputs": [],
      "source": [
        "model.save_pretrained('hs_strengthness_bert')\n",
        "tokenizer.save_pretrained('hs_strengthness_bert')\n",
        "\n",
        "shutil.make_archive('hs_strengthness_bert', 'zip', 'hs_multilabel_bert')\n",
        "files.download('hs_strengthness_bert.zip')"
      ]
    }
  ],
  "metadata": {
    "accelerator": "GPU",
    "colab": {
      "gpuType": "T4",
      "provenance": []
    },
    "kernelspec": {
      "display_name": "Python 3",
      "name": "python3"
    },
    "language_info": {
      "name": "python"
    },
    "widgets": {
      "application/vnd.jupyter.widget-state+json": {
        "03f8970f46e34853b564d594c1f63eff": {
          "model_module": "@jupyter-widgets/controls",
          "model_name": "HBoxModel",
          "model_module_version": "1.5.0",
          "state": {
            "_dom_classes": [],
            "_model_module": "@jupyter-widgets/controls",
            "_model_module_version": "1.5.0",
            "_model_name": "HBoxModel",
            "_view_count": null,
            "_view_module": "@jupyter-widgets/controls",
            "_view_module_version": "1.5.0",
            "_view_name": "HBoxView",
            "box_style": "",
            "children": [
              "IPY_MODEL_90eab30208414f7a8b91b99960760400",
              "IPY_MODEL_66d8c9ef228441f28ef84e3ace03ae19",
              "IPY_MODEL_1554c2e4557446d4b714d98781339c53"
            ],
            "layout": "IPY_MODEL_2451ed0e510a402b99154e74c518f041"
          }
        },
        "90eab30208414f7a8b91b99960760400": {
          "model_module": "@jupyter-widgets/controls",
          "model_name": "HTMLModel",
          "model_module_version": "1.5.0",
          "state": {
            "_dom_classes": [],
            "_model_module": "@jupyter-widgets/controls",
            "_model_module_version": "1.5.0",
            "_model_name": "HTMLModel",
            "_view_count": null,
            "_view_module": "@jupyter-widgets/controls",
            "_view_module_version": "1.5.0",
            "_view_name": "HTMLView",
            "description": "",
            "description_tooltip": null,
            "layout": "IPY_MODEL_d0ef116ff04547c18e6532ec12a2139d",
            "placeholder": "​",
            "style": "IPY_MODEL_b2a6de9a30c0481b8886fdc7fcce843a",
            "value": "tf_model.h5: 100%"
          }
        },
        "66d8c9ef228441f28ef84e3ace03ae19": {
          "model_module": "@jupyter-widgets/controls",
          "model_name": "FloatProgressModel",
          "model_module_version": "1.5.0",
          "state": {
            "_dom_classes": [],
            "_model_module": "@jupyter-widgets/controls",
            "_model_module_version": "1.5.0",
            "_model_name": "FloatProgressModel",
            "_view_count": null,
            "_view_module": "@jupyter-widgets/controls",
            "_view_module_version": "1.5.0",
            "_view_name": "ProgressView",
            "bar_style": "success",
            "description": "",
            "description_tooltip": null,
            "layout": "IPY_MODEL_55d5087095ba438a984d222f032ff330",
            "max": 655811760,
            "min": 0,
            "orientation": "horizontal",
            "style": "IPY_MODEL_3678771d843a4459b293d52b108de7b6",
            "value": 655811760
          }
        },
        "1554c2e4557446d4b714d98781339c53": {
          "model_module": "@jupyter-widgets/controls",
          "model_name": "HTMLModel",
          "model_module_version": "1.5.0",
          "state": {
            "_dom_classes": [],
            "_model_module": "@jupyter-widgets/controls",
            "_model_module_version": "1.5.0",
            "_model_name": "HTMLModel",
            "_view_count": null,
            "_view_module": "@jupyter-widgets/controls",
            "_view_module_version": "1.5.0",
            "_view_name": "HTMLView",
            "description": "",
            "description_tooltip": null,
            "layout": "IPY_MODEL_fc2c6432921749e6bfd5eb1796572fd2",
            "placeholder": "​",
            "style": "IPY_MODEL_4001af4c8764468cbf504f0b303878a7",
            "value": " 656M/656M [00:04&lt;00:00, 185MB/s]"
          }
        },
        "2451ed0e510a402b99154e74c518f041": {
          "model_module": "@jupyter-widgets/base",
          "model_name": "LayoutModel",
          "model_module_version": "1.2.0",
          "state": {
            "_model_module": "@jupyter-widgets/base",
            "_model_module_version": "1.2.0",
            "_model_name": "LayoutModel",
            "_view_count": null,
            "_view_module": "@jupyter-widgets/base",
            "_view_module_version": "1.2.0",
            "_view_name": "LayoutView",
            "align_content": null,
            "align_items": null,
            "align_self": null,
            "border": null,
            "bottom": null,
            "display": null,
            "flex": null,
            "flex_flow": null,
            "grid_area": null,
            "grid_auto_columns": null,
            "grid_auto_flow": null,
            "grid_auto_rows": null,
            "grid_column": null,
            "grid_gap": null,
            "grid_row": null,
            "grid_template_areas": null,
            "grid_template_columns": null,
            "grid_template_rows": null,
            "height": null,
            "justify_content": null,
            "justify_items": null,
            "left": null,
            "margin": null,
            "max_height": null,
            "max_width": null,
            "min_height": null,
            "min_width": null,
            "object_fit": null,
            "object_position": null,
            "order": null,
            "overflow": null,
            "overflow_x": null,
            "overflow_y": null,
            "padding": null,
            "right": null,
            "top": null,
            "visibility": null,
            "width": null
          }
        },
        "d0ef116ff04547c18e6532ec12a2139d": {
          "model_module": "@jupyter-widgets/base",
          "model_name": "LayoutModel",
          "model_module_version": "1.2.0",
          "state": {
            "_model_module": "@jupyter-widgets/base",
            "_model_module_version": "1.2.0",
            "_model_name": "LayoutModel",
            "_view_count": null,
            "_view_module": "@jupyter-widgets/base",
            "_view_module_version": "1.2.0",
            "_view_name": "LayoutView",
            "align_content": null,
            "align_items": null,
            "align_self": null,
            "border": null,
            "bottom": null,
            "display": null,
            "flex": null,
            "flex_flow": null,
            "grid_area": null,
            "grid_auto_columns": null,
            "grid_auto_flow": null,
            "grid_auto_rows": null,
            "grid_column": null,
            "grid_gap": null,
            "grid_row": null,
            "grid_template_areas": null,
            "grid_template_columns": null,
            "grid_template_rows": null,
            "height": null,
            "justify_content": null,
            "justify_items": null,
            "left": null,
            "margin": null,
            "max_height": null,
            "max_width": null,
            "min_height": null,
            "min_width": null,
            "object_fit": null,
            "object_position": null,
            "order": null,
            "overflow": null,
            "overflow_x": null,
            "overflow_y": null,
            "padding": null,
            "right": null,
            "top": null,
            "visibility": null,
            "width": null
          }
        },
        "b2a6de9a30c0481b8886fdc7fcce843a": {
          "model_module": "@jupyter-widgets/controls",
          "model_name": "DescriptionStyleModel",
          "model_module_version": "1.5.0",
          "state": {
            "_model_module": "@jupyter-widgets/controls",
            "_model_module_version": "1.5.0",
            "_model_name": "DescriptionStyleModel",
            "_view_count": null,
            "_view_module": "@jupyter-widgets/base",
            "_view_module_version": "1.2.0",
            "_view_name": "StyleView",
            "description_width": ""
          }
        },
        "55d5087095ba438a984d222f032ff330": {
          "model_module": "@jupyter-widgets/base",
          "model_name": "LayoutModel",
          "model_module_version": "1.2.0",
          "state": {
            "_model_module": "@jupyter-widgets/base",
            "_model_module_version": "1.2.0",
            "_model_name": "LayoutModel",
            "_view_count": null,
            "_view_module": "@jupyter-widgets/base",
            "_view_module_version": "1.2.0",
            "_view_name": "LayoutView",
            "align_content": null,
            "align_items": null,
            "align_self": null,
            "border": null,
            "bottom": null,
            "display": null,
            "flex": null,
            "flex_flow": null,
            "grid_area": null,
            "grid_auto_columns": null,
            "grid_auto_flow": null,
            "grid_auto_rows": null,
            "grid_column": null,
            "grid_gap": null,
            "grid_row": null,
            "grid_template_areas": null,
            "grid_template_columns": null,
            "grid_template_rows": null,
            "height": null,
            "justify_content": null,
            "justify_items": null,
            "left": null,
            "margin": null,
            "max_height": null,
            "max_width": null,
            "min_height": null,
            "min_width": null,
            "object_fit": null,
            "object_position": null,
            "order": null,
            "overflow": null,
            "overflow_x": null,
            "overflow_y": null,
            "padding": null,
            "right": null,
            "top": null,
            "visibility": null,
            "width": null
          }
        },
        "3678771d843a4459b293d52b108de7b6": {
          "model_module": "@jupyter-widgets/controls",
          "model_name": "ProgressStyleModel",
          "model_module_version": "1.5.0",
          "state": {
            "_model_module": "@jupyter-widgets/controls",
            "_model_module_version": "1.5.0",
            "_model_name": "ProgressStyleModel",
            "_view_count": null,
            "_view_module": "@jupyter-widgets/base",
            "_view_module_version": "1.2.0",
            "_view_name": "StyleView",
            "bar_color": null,
            "description_width": ""
          }
        },
        "fc2c6432921749e6bfd5eb1796572fd2": {
          "model_module": "@jupyter-widgets/base",
          "model_name": "LayoutModel",
          "model_module_version": "1.2.0",
          "state": {
            "_model_module": "@jupyter-widgets/base",
            "_model_module_version": "1.2.0",
            "_model_name": "LayoutModel",
            "_view_count": null,
            "_view_module": "@jupyter-widgets/base",
            "_view_module_version": "1.2.0",
            "_view_name": "LayoutView",
            "align_content": null,
            "align_items": null,
            "align_self": null,
            "border": null,
            "bottom": null,
            "display": null,
            "flex": null,
            "flex_flow": null,
            "grid_area": null,
            "grid_auto_columns": null,
            "grid_auto_flow": null,
            "grid_auto_rows": null,
            "grid_column": null,
            "grid_gap": null,
            "grid_row": null,
            "grid_template_areas": null,
            "grid_template_columns": null,
            "grid_template_rows": null,
            "height": null,
            "justify_content": null,
            "justify_items": null,
            "left": null,
            "margin": null,
            "max_height": null,
            "max_width": null,
            "min_height": null,
            "min_width": null,
            "object_fit": null,
            "object_position": null,
            "order": null,
            "overflow": null,
            "overflow_x": null,
            "overflow_y": null,
            "padding": null,
            "right": null,
            "top": null,
            "visibility": null,
            "width": null
          }
        },
        "4001af4c8764468cbf504f0b303878a7": {
          "model_module": "@jupyter-widgets/controls",
          "model_name": "DescriptionStyleModel",
          "model_module_version": "1.5.0",
          "state": {
            "_model_module": "@jupyter-widgets/controls",
            "_model_module_version": "1.5.0",
            "_model_name": "DescriptionStyleModel",
            "_view_count": null,
            "_view_module": "@jupyter-widgets/base",
            "_view_module_version": "1.2.0",
            "_view_name": "StyleView",
            "description_width": ""
          }
        }
      }
    }
  },
  "nbformat": 4,
  "nbformat_minor": 0
}